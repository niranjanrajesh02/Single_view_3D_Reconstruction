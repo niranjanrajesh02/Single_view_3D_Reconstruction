{
 "cells": [
  {
   "cell_type": "code",
   "execution_count": 1,
   "metadata": {},
   "outputs": [
    {
     "name": "stdout",
     "output_type": "stream",
     "text": [
      "Please Select the points of the Edges:\n"
     ]
    }
   ],
   "source": [
    "import cv2\n",
    "import numpy as np\n",
    "img_path = 'box..jpg'\n",
    "img = cv2.imread(img_path)\n",
    "corX = []\n",
    "corY = []\n",
    "vanishing_points = []\n",
    "real_distance = [0, 0, 0, 0]\n",
    "colrgb = ['blue', 'green', 'red']\n",
    "\n",
    "print (\"Please Select the points of the Edges:\")"
   ]
  },
  {
   "cell_type": "code",
   "execution_count": 2,
   "metadata": {},
   "outputs": [],
   "source": [
    "def mark_points(event, x, y, flags, param):\n",
    "    global corX\n",
    "    global corY\n",
    "    if event == cv2.EVENT_LBUTTONDOWN:\n",
    "        cv2.circle(param[0], (int(x), int(y)), 4, param[1], -1)\n",
    "        corX.append(x)\n",
    "        corY.append(y)"
   ]
  },
  {
   "cell_type": "code",
   "execution_count": 3,
   "metadata": {},
   "outputs": [],
   "source": [
    "#return vanishing points for x,y and z directions respectively.\n",
    "def mark_edges(img):\n",
    "    global corX\n",
    "    global corY\n",
    "    global vanishing_points\n",
    "    for i in range(0, 3):\n",
    "        print (\"Mark 2 Points for \", colrgb[i],  \" edge: \")\n",
    "        color = [0, 0, 0]\n",
    "        color[i] = 255\n",
    "        color = tuple(color)\n",
    "        cv2.namedWindow('select_edges')\n",
    "        cv2.setMouseCallback('select_edges', mark_points, (img, color))\n",
    "        while 1:\n",
    "            cv2.imshow('select_edges', img)\n",
    "            k = cv2.waitKey(20) & 0xFF\n",
    "            if k == 27 or corX.__len__() == 6:\n",
    "                cv2.imshow('select_edges', img)\n",
    "                cv2.waitKey(20)\n",
    "                break\n",
    "            if k == ord(\"q\"):\n",
    "                exit(1)\n",
    "                break\n",
    "\n",
    "        cv2.line(img, (corX[0], corY[0]), (corX[1], corY[1]), color, 4)\n",
    "        cv2.line(img, (corX[2], corY[2]), (corX[3], corY[3]), color, 4)\n",
    "        cv2.line(img, (corX[4], corY[4]), (corX[5], corY[5]), color, 4)\n",
    "        cv2.imshow('select_edges', img)\n",
    "        cv2.waitKey(20)\n",
    "\n",
    "        # Store the end-points\n",
    "        e1 = [corX[0], corY[0], 1]\n",
    "        e2 = [corX[1], corY[1], 1]\n",
    "        e3 = [corX[2], corY[2], 1]\n",
    "        e4 = [corX[3], corY[3], 1]\n",
    "\n",
    "        # Parameters of lines\n",
    "        L1 = np.cross(e1, e2)\n",
    "        L2 = np.cross(e3, e4)\n",
    "\n",
    "        # Intersection points = cross product of two lines\n",
    "        V_homogenious = np.cross(L1, L2)\n",
    "\n",
    "        # making the last coordinte 1 (homogenious co-ordinates)\n",
    "        if V_homogenious[2] != 0:\n",
    "            Vh = np.divide(V_homogenious, V_homogenious[2])\n",
    "        vanishing_points.append(Vh)\n",
    "\n",
    "        # for next side delete previous ones\n",
    "        # print(corX)\n",
    "        # print(corY)\n",
    "        if i == 0:\n",
    "            X_0 = corX\n",
    "            Y_0 = corY\n",
    "        elif i == 1:\n",
    "            X_1 = corX\n",
    "            Y_1 = corY\n",
    "        else:\n",
    "            X_2 = corX\n",
    "            Y_2 = corY\n",
    "\n",
    "        del corX[:]\n",
    "        del corY[:]\n",
    "\n",
    "\n",
    "    Vx = vanishing_points[0]\n",
    "    Vy = vanishing_points[1]\n",
    "    Vz = vanishing_points[2]\n",
    "    print(Vx)\n",
    "    print(Vy)\n",
    "    print(Vz)\n",
    "    return Vx,Vy,Vz\n"
   ]
  },
  {
   "cell_type": "code",
   "execution_count": 4,
   "metadata": {},
   "outputs": [],
   "source": [
    "## Marking axes return worl coordinates and references points for axes\n",
    "def mark_axes(img):\n",
    "    global corX\n",
    "    global corY\n",
    "    print (\"click on the origin and then the endpoints of the axes in the same order as you did previously\")\n",
    "    print (\"also enter the distance from origin\")\n",
    "    for i in range(0, 4):\n",
    "        color = [0, 0, 0]\n",
    "        if i > 0:\n",
    "            color[(i - 1) % 3] = 255\n",
    "            color = tuple(color)\n",
    "        cv2.namedWindow('select_axes')\n",
    "        cv2.setMouseCallback('select_axes', mark_points, color)\n",
    "        while 1:\n",
    "            cv2.imshow('select_axes', img)\n",
    "            k = cv2.waitKey(20) & 0xFF\n",
    "            if k == 27 or corX.__len__() == (i + 1) :\n",
    "                cv2.circle(img, (corX[i], corY[i]), 4, color, -1)\n",
    "                if i != 0:\n",
    "                    cv2.line(img, (corX[0], corY[0]), (corX[i], corY[i]), color, 4)\n",
    "                cv2.imshow('select_axes', img)\n",
    "                cv2.waitKey(20)\n",
    "                break\n",
    "            if k == ord(\"q\"):\n",
    "                exit(1)\n",
    "                break\n",
    "\n",
    "    return corX,corY  #corX[0] = wc, corX[1] = x direction ref point and similar for y and z\n"
   ]
  },
  {
   "cell_type": "code",
   "execution_count": 5,
   "metadata": {},
   "outputs": [],
   "source": [
    "def projectionMatrix(vX, vY, vZ, xCor, yCor):\n",
    "    w_origin = [xCor[0], yCor[0]]\n",
    "    ref_1 = np.array([xCor[1], yCor[1]]) # x ref point\n",
    "    ref_2 = np.array([xCor[2], yCor[2]]) # y ref point\n",
    "    ref_3 = np.array([xCor[3], yCor[3]]) # z ref point\n",
    "\n",
    "    x_length = np.sqrt(np.sum(np.square(ref_1 - w_origin)))   \n",
    "    y_length = np.sqrt(np.sum(np.square(ref_2 - w_origin)))   \n",
    "    z_length = np.sqrt(np.sum(np.square(ref_3 - w_origin)))   \n",
    "\n",
    "    ref_1 = np.array(ref_1)\n",
    "    ref_1 = np.expand_dims(np.append(ref_1, [1]), axis=0)\n",
    "    ref_2 = np.array(ref_2)\n",
    "    ref_2 = np.expand_dims(np.append(ref_2, [1]), axis=0)\n",
    "    ref_3 = np.array(ref_3)\n",
    "    ref_3 = np.expand_dims(np.append(ref_3, [1]), axis=0)\n",
    "    w_origin = np.array(w_origin)\n",
    "    w_origin = np.append(w_origin, [1])\n",
    "    Vx = np.array(vX)\n",
    "    Vy = np.array(vY)\n",
    "    Vz = np.array(vZ)\n",
    "    # print(Vx.shape, ref_1.shape, w_origin.shape) #(3,) (2,) (2,)\n",
    "    # print(\"Vx, ref_1, w_origin\")\n",
    "    print(Vx, ref_1, w_origin)\n",
    "    ax,resid,rank,s = np.linalg.lstsq( (Vx-ref_1).T , (ref_1 - w_origin).T, rcond=None )\n",
    "    ax = ax[0][0]/x_length\n",
    "\n",
    "    ay,resid,rank,s = np.linalg.lstsq( (Vy-ref_2).T , (ref_2 - w_origin).T, rcond=None )\n",
    "    ay = ay[0][0]/y_length\n",
    "\n",
    "    az,resid,rank,s = np.linalg.lstsq( (Vz-ref_3).T , (ref_3 - w_origin).T, rcond=None )\n",
    "    az = az[0][0]/z_length\n",
    "\n",
    "    px = ax*Vx\n",
    "    py = ay*Vy\n",
    "    pz = az*Vz\n",
    "\n",
    "    P = np.empty([3,4]) #Projection Matrix\n",
    "    P[:,0] = px\n",
    "    P[:,1] = py\n",
    "    P[:,2] = pz\n",
    "    P[:,3] = w_origin\n",
    "\n",
    "\n",
    "    Hxy = np.zeros((3,3))\n",
    "    Hyz = np.zeros((3,3))\n",
    "    Hzx = np.zeros((3,3))\n",
    "\n",
    "    Hxy[:,0] = px\n",
    "    Hxy[:,1] = py\n",
    "    Hxy[:,2] = w_origin\n",
    "\n",
    "    Hyz[:,0] = py\n",
    "    Hyz[:,1] = pz\n",
    "    Hyz[:,2] = w_origin\n",
    "\n",
    "    Hzx[:,0] = px\n",
    "    Hzx[:,1] = pz\n",
    "    Hzx[:,2] = w_origin\n",
    "\n",
    "\n",
    "    Hxy[0,2] = Hxy[0,2] \n",
    "    Hxy[1,2] = Hxy[1,2]\n",
    "\n",
    "    Hyz[0,2] = Hyz[0,2] + 100\n",
    "    Hyz[1,2] = Hyz[1,2] + 100 \n",
    "\n",
    "    Hzx[0,2] = Hzx[0,2] - 50\n",
    "    Hzx[1,2] = Hzx[1,2] + 50\n",
    "\n",
    "    return Hxy, Hyz, Hzx"
   ]
  },
  {
   "cell_type": "code",
   "execution_count": 6,
   "metadata": {},
   "outputs": [],
   "source": [
    "def getTextures(Txy, Tyz, Tzx):\n",
    "  r,c,temp = img.shape\n",
    "  Txy = cv2.warpPerspective(img,Hxy,(r,c),flags=cv2.WARP_INVERSE_MAP)\n",
    "  Tyz = cv2.warpPerspective(img,Hyz,(r,c),flags=cv2.WARP_INVERSE_MAP)\n",
    "  Tzx = cv2.warpPerspective(img,Hzx,(r,c),flags=cv2.WARP_INVERSE_MAP)\n",
    "\n",
    "  cv2.imshow(\"Txy\",Txy)\n",
    "  cv2.imshow(\"Tyz\",Tyz)\n",
    "  cv2.imshow(\"Tzx\",Tzx)\n",
    "\n",
    "  cv2.waitKey(0)\n",
    "  cv2.imwrite(\"XY.jpg\",Txy)\n",
    "  cv2.imwrite(\"YZ.jpg\",Tyz)\n",
    "  cv2.imwrite(\"ZX.jpg\",Tzx)\n",
    "  cv2.destroyAllWindows();\n",
    "  print(\"textures saved\")"
   ]
  },
  {
   "cell_type": "code",
   "execution_count": 7,
   "metadata": {},
   "outputs": [
    {
     "name": "stdout",
     "output_type": "stream",
     "text": [
      "Mark 2 Points for  blue  edge: \n",
      "Mark 2 Points for  green  edge: \n",
      "Mark 2 Points for  red  edge: \n",
      "[ 2.48533224e+03 -1.40656233e+02  1.00000000e+00]\n",
      "[-472.65616438 -137.65890411    1.        ]\n",
      "[ 6.98294118e+02 -5.71846471e+04  1.00000000e+00]\n",
      "click on the origin and then the endpoints of the axes in the same order as you did previously\n",
      "also enter the distance from origin\n",
      "Vx, Vy, Vz = [ 2.48533224e+03 -1.40656233e+02  1.00000000e+00] [-472.65616438 -137.65890411    1.        ] [ 6.98294118e+02 -5.71846471e+04  1.00000000e+00]\n",
      "xCor = [180, 373, 89, 177]\n",
      "yCor = [346, 303, 275, 119]\n"
     ]
    }
   ],
   "source": [
    "Vx, Vy, Vz = mark_edges(cv2.imread('box..jpg'))\n",
    "xCor, yCor = mark_axes(cv2.imread('box..jpg'))\n",
    "print(\"Vx, Vy, Vz =\", Vx,Vy, Vz)\n",
    "print(\"xCor =\", xCor)\n",
    "print(\"yCor =\", yCor)"
   ]
  },
  {
   "cell_type": "code",
   "execution_count": 8,
   "metadata": {},
   "outputs": [
    {
     "name": "stdout",
     "output_type": "stream",
     "text": [
      "[ 2.48533224e+03 -1.40656233e+02  1.00000000e+00] [[373 303   1]] [180 346   1]\n",
      "textures saved\n"
     ]
    }
   ],
   "source": [
    "Hxy, Hyz, Hzx = projectionMatrix(Vx, Vy, Vz, xCor, yCor)\n",
    "# print(Hxy, Hyz, Hzx)\n",
    "getTextures(Hxy, Hyz, Hzx)"
   ]
  },
  {
   "cell_type": "code",
   "execution_count": null,
   "metadata": {},
   "outputs": [],
   "source": [
    "\n"
   ]
  }
 ],
 "metadata": {
  "interpreter": {
   "hash": "6425cd9e7479e8816712db272bacbd5874bb281d0a531a888c9265c5c07ae1c0"
  },
  "kernelspec": {
   "display_name": "Python 3.9.5 64-bit",
   "language": "python",
   "name": "python3"
  },
  "language_info": {
   "codemirror_mode": {
    "name": "ipython",
    "version": 3
   },
   "file_extension": ".py",
   "mimetype": "text/x-python",
   "name": "python",
   "nbconvert_exporter": "python",
   "pygments_lexer": "ipython3",
   "version": "3.10.0"
  },
  "orig_nbformat": 4
 },
 "nbformat": 4,
 "nbformat_minor": 2
}
